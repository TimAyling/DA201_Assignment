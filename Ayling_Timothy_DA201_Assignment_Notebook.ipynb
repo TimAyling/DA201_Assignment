{
 "cells": [
  {
   "cell_type": "code",
   "execution_count": 1,
   "id": "c0ffcf82",
   "metadata": {},
   "outputs": [],
   "source": [
    "# Import the necessary packages\n",
    "import pandas as pd\n"
   ]
  },
  {
   "cell_type": "code",
   "execution_count": null,
   "id": "202a2081",
   "metadata": {},
   "outputs": [],
   "source": [
    "# Import the national categories data set\n",
    "cat = pd.read_excel('national_categories.xlsx')\n",
    "\n",
    "# View the DataFrame\n",
    "cat.head()\n",
    "cat.tail()\n",
    "cat.shape()\n",
    "print(cat.dtypes)\n",
    "\n"
   ]
  },
  {
   "cell_type": "code",
   "execution_count": null,
   "id": "7dcbf050",
   "metadata": {},
   "outputs": [],
   "source": [
    "# Import the regional appointment data set\n",
    "r_app = pd.read_csv('appointments_regional.csv')\n",
    "\n",
    "# View the DataFrame\n",
    "r_app.head()\n",
    "r_app.tail()\n",
    "r_app.shape()\n",
    "print(r_app.dtypes)"
   ]
  },
  {
   "cell_type": "code",
   "execution_count": null,
   "id": "0687c309",
   "metadata": {},
   "outputs": [],
   "source": [
    "# Import the tweets data set\n",
    "tweets1 = pd.read_csv('tweets.csv')\n",
    "\n",
    "# View the DataFrame\n",
    "tweets1.head()\n",
    "tweets1.tail()\n",
    "tweets1.shape()\n",
    "print(tweets1.dtypes)\n"
   ]
  },
  {
   "cell_type": "code",
   "execution_count": null,
   "id": "0774bf7f",
   "metadata": {},
   "outputs": [],
   "source": [
    "# Import the actual duration data set\n",
    "dur1 = pd.read_csv('actual_duration.csv')\n",
    "\n",
    "# View the DataFrame\n",
    "dur1.head()\n",
    "dur1.tail()\n",
    "dur1.shape()\n",
    "dur1.dtypes"
   ]
  },
  {
   "cell_type": "code",
   "execution_count": null,
   "id": "6d07ed7a",
   "metadata": {},
   "outputs": [],
   "source": []
  }
 ],
 "metadata": {
  "kernelspec": {
   "display_name": "Python 3 (ipykernel)",
   "language": "python",
   "name": "python3"
  },
  "language_info": {
   "codemirror_mode": {
    "name": "ipython",
    "version": 3
   },
   "file_extension": ".py",
   "mimetype": "text/x-python",
   "name": "python",
   "nbconvert_exporter": "python",
   "pygments_lexer": "ipython3",
   "version": "3.9.12"
  }
 },
 "nbformat": 4,
 "nbformat_minor": 5
}
